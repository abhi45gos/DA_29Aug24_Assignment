{
 "cells": [
  {
   "cell_type": "markdown",
   "id": "848abc22-499e-4f1f-b5da-9063a273927f",
   "metadata": {},
   "source": [
    "# Data Analytics 29 Aug'24 Assignment - Abhinav Goswami"
   ]
  },
  {
   "cell_type": "markdown",
   "id": "69b53b68-6ab4-4c3e-9189-99b4325705b0",
   "metadata": {},
   "source": [
    "# Data Analytics First Assignment - Python Basics"
   ]
  },
  {
   "cell_type": "markdown",
   "id": "f9ca02ef-8b01-4db8-a5b7-85841723ab7f",
   "metadata": {},
   "source": [
    "## Question 1\n",
    "### Explain the key features of python that make it a popular choice for programming."
   ]
  },
  {
   "cell_type": "raw",
   "id": "71c182ce-5ca0-4588-a723-9cbce1448427",
   "metadata": {},
   "source": [
    "'''\n",
    "Python is a popular programming language for several reasons, thanks to its features that cater to both beginners and experienced developers. Here are some key features that contribute to its popularity:\n",
    "\n",
    "1. Readability and Simplicity\n",
    "Python’s syntax is designed to be readable and straightforward, making it easier to learn and use. This helps developers focus on solving problems rather than understanding complex syntax rules.\n",
    "\n",
    "2. Versatility\n",
    "Python is a versatile language that can be used for a wide range of applications, including web development, data analysis, artificial intelligence, machine learning, automation, scientific computing, and more.\n",
    "\n",
    "3. Extensive Standard Library\n",
    "Python has a comprehensive standard library that provides modules and functions for many common tasks, reducing the need to write code from scratch.\n",
    "\n",
    "4. Large Ecosystem of Third-Party Libraries\n",
    "The Python Package Index (PyPI) hosts thousands of third-party libraries and frameworks, allowing developers to extend Python's capabilities for various specialized tasks like web development (Django, Flask), data science (Pandas, NumPy, SciPy), machine learning (TensorFlow, PyTorch), and more.\n",
    "\n",
    "5. Cross-Platform Compatibility\n",
    "Python is platform-independent, meaning code written on one operating system (Windows, macOS, Linux) can run on others with minimal modifications.\n",
    "\n",
    "6. Dynamic Typing and Interpreted Nature\n",
    "Python is dynamically typed, meaning you don’t need to declare variable types explicitly. It’s also an interpreted language, which means code is executed line by line, making debugging easier and enabling quick prototyping.\n",
    "\n",
    "7. Strong Community Support\n",
    "Python has a large, active community that contributes to its development, provides extensive documentation, and offers support through forums, tutorials, and resources.\n",
    "\n",
    "8. Integration Capabilities\n",
    "Python can easily integrate with other languages like C, C++, Java, and more. It supports various integration protocols like COM, CORBA, and API integration, making it a great choice for scripting, automating tasks, and connecting different systems.\n",
    "\n",
    "9. Support for Multiple Programming Paradigms\n",
    "Python supports multiple programming paradigms, including procedural, object-oriented, and functional programming, providing flexibility in coding style and design.\n",
    "\n",
    "10. Robust Frameworks and Tools for Testing\n",
    "Python comes with a variety of built-in and third-party frameworks and tools for testing, such as unittest, pytest, and doctest, which facilitate the development of reliable and maintainable code.\n",
    "\n",
    "11. Good for Rapid Prototyping\n",
    "Python's simplicity and the availability of libraries make it an excellent choice for rapid prototyping, allowing developers to quickly test ideas and build proof-of-concept applications.\n",
    "These features collectively make Python an attractive choice for developers, contributing to its widespread use across various industries and domains."
   ]
  },
  {
   "cell_type": "markdown",
   "id": "db8efe92-4d48-4df5-ab39-cf8076967344",
   "metadata": {},
   "source": [
    "### Question 2\n",
    "#### Describe the role of predefined keywords in python and provide examples of how they are used in a program."
   ]
  },
  {
   "cell_type": "raw",
   "id": "a9e446c7-1bac-460c-b3d2-9bcdf65b9930",
   "metadata": {},
   "source": [
    "Predefined keywords in Python are reserved words that have special meanings and purposes within the language. These keywords are part of the syntax and structure of Python, and they cannot be used as identifiers (such as variable names, function names, or any other custom names in your code).\n",
    "\n",
    "Role of Predefined Keywords in Python\n",
    "Defining Structure and Flow: Keywords help define the overall structure of a Python program. They are used to control the flow of the program, declare variables, and define functions or classes.\n",
    "\n",
    "Control Statements: Keywords like if, else, elif, for, while, break, and continue are used to control the flow of execution in a program.\n",
    "\n",
    "Defining Functions and Classes: Keywords such as def and class are used to define functions and classes, respectively.\n",
    "\n",
    "Handling Exceptions: Keywords like try, except, finally, raise, and assert are used for error handling and debugging.\n",
    "\n",
    "Working with Data: Keywords such as True, False, None, and, or, and not are used for logical operations and representing special data types or values.\n",
    "\n",
    "Variable Scope and Management: Keywords like global, nonlocal, lambda, return, yield, import, and from help manage variable scope and imports, as well as define functions and manage data flow."
   ]
  },
  {
   "cell_type": "markdown",
   "id": "4e42ff27-1204-4d7f-902c-b660ef192d41",
   "metadata": {},
   "source": [
    "###### Examples:"
   ]
  },
  {
   "cell_type": "code",
   "execution_count": 4,
   "id": "ffa6de46-c141-4698-94ed-8fa52c8fdd7c",
   "metadata": {},
   "outputs": [
    {
     "name": "stdout",
     "output_type": "stream",
     "text": [
      "Positive number\n"
     ]
    }
   ],
   "source": [
    "# Using if, elif, and else to control the flow of the program\n",
    "number = 10\n",
    "\n",
    "if number > 0:\n",
    "    print(\"Positive number\")\n",
    "elif number < 0:\n",
    "    print(\"Negative number\")\n",
    "else:\n",
    "    print(\"Zero\")\n"
   ]
  },
  {
   "cell_type": "code",
   "execution_count": 5,
   "id": "5ce3c177-a60a-42f6-9612-9272fe71b248",
   "metadata": {},
   "outputs": [
    {
     "data": {
      "text/plain": [
       "int"
      ]
     },
     "execution_count": 5,
     "metadata": {},
     "output_type": "execute_result"
    }
   ],
   "source": [
    "# Using type to ascertain the type of the data\n",
    "type(number)"
   ]
  },
  {
   "cell_type": "code",
   "execution_count": 9,
   "id": "fed53831-4cd5-4c95-ab91-dde0452eadfe",
   "metadata": {},
   "outputs": [
    {
     "name": "stdout",
     "output_type": "stream",
     "text": [
      "*\n",
      "**\n",
      "***\n",
      "****\n"
     ]
    }
   ],
   "source": [
    "# Using for to create patterns\n",
    "for p in range(4):\n",
    "    for q in range(p+1):\n",
    "        print(\"*\", end = \"\")\n",
    "    print()"
   ]
  },
  {
   "cell_type": "code",
   "execution_count": 10,
   "id": "2f9a0d7f-f231-4164-bc5c-e19575c8f2b4",
   "metadata": {},
   "outputs": [
    {
     "name": "stdout",
     "output_type": "stream",
     "text": [
      "*\n",
      "**\n",
      "***\n",
      "****\n",
      "*****\n",
      "******\n",
      "*******\n",
      "********\n",
      "*********\n",
      "**********\n"
     ]
    }
   ],
   "source": [
    "# Using while to create patterns\n",
    "row = 1\n",
    "while row <= 10:\n",
    "    col = 1\n",
    "    while col <= row:\n",
    "        print(\"*\", end = \"\")\n",
    "        col = col + 1\n",
    "    print()\n",
    "    row = row + 1"
   ]
  },
  {
   "cell_type": "markdown",
   "id": "f3729d6c-a8b0-4418-9978-7499fba4fa37",
   "metadata": {},
   "source": [
    "### Question 3\n",
    "#### Compare and contrast mutable and immutable objects in python with examples."
   ]
  },
  {
   "cell_type": "raw",
   "id": "1ffc41d5-9337-436e-b6e6-97c6cf25f6da",
   "metadata": {},
   "source": [
    "In Python, objects can be classified as either mutable or immutable, which refers to whether the object's state or value can be changed after it is created. Understanding the difference between mutable and immutable objects is crucial, as it affects how data is managed and manipulated in Python programs.\n",
    "\n",
    "Mutable Objects - \n",
    "Definition: Mutable objects are those whose values or states can be modified after they are created. Operations that modify the object do not change its identity; instead, they alter the content of the object in place.\n",
    "\n",
    "Examples of Mutable Objects:\n",
    "\n",
    "Lists\n",
    "Dictionaries\n",
    "Sets\n",
    "User-defined objects (if designed to be mutable)"
   ]
  },
  {
   "cell_type": "code",
   "execution_count": 11,
   "id": "062479a1-5792-4f86-b283-c39eeaad4194",
   "metadata": {},
   "outputs": [],
   "source": [
    "# Examples of Mutable Objects ---> List\n",
    "list1 = [\"Abhinav\", 100, True, \"pwskills\", \"Data Analysis\", 98]"
   ]
  },
  {
   "cell_type": "code",
   "execution_count": 12,
   "id": "d43d0b85-bc7a-48a2-8136-977fafb8becf",
   "metadata": {},
   "outputs": [],
   "source": [
    "list1[5] = 198"
   ]
  },
  {
   "cell_type": "code",
   "execution_count": 13,
   "id": "d17aae96-bb24-42b4-8c61-4b1b9ca3188d",
   "metadata": {},
   "outputs": [
    {
     "data": {
      "text/plain": [
       "['Abhinav', 100, True, 'pwskills', 'Data Analysis', 198]"
      ]
     },
     "execution_count": 13,
     "metadata": {},
     "output_type": "execute_result"
    }
   ],
   "source": [
    "list1"
   ]
  },
  {
   "cell_type": "code",
   "execution_count": 14,
   "id": "876f2d02-5a06-4b32-9b69-6a1fc49ead30",
   "metadata": {},
   "outputs": [],
   "source": [
    "# Examples of Mutable Objects ---> Dictionaries\n",
    "Dict1 = {\"Name\": \"Abhinav Goswami\", \"Age\": 24, \"Email ID\": \"abhigos45@gmail.com\"}"
   ]
  },
  {
   "cell_type": "code",
   "execution_count": 17,
   "id": "467bc09b-01d1-4af3-b0be-fe9612d9e81f",
   "metadata": {},
   "outputs": [],
   "source": [
    "Dict1[\"DOB\"] = \"12/10/2000\""
   ]
  },
  {
   "cell_type": "code",
   "execution_count": 18,
   "id": "f53f4d20-4b2e-419e-a0bc-9b0b649224fe",
   "metadata": {},
   "outputs": [
    {
     "data": {
      "text/plain": [
       "{'Name': 'Abhinav Goswami',\n",
       " 'Age': 24,\n",
       " 'Email ID': 'abhigos45@gmail.com',\n",
       " 0: 'Name_Surname',\n",
       " 'DOB': '12/10/2000'}"
      ]
     },
     "execution_count": 18,
     "metadata": {},
     "output_type": "execute_result"
    }
   ],
   "source": [
    "Dict1"
   ]
  },
  {
   "cell_type": "raw",
   "id": "c0481e5d-228a-44b6-8d31-e28488be3b97",
   "metadata": {},
   "source": [
    "Immutable Objects\n",
    "Definition: Immutable objects are those whose values or states cannot be changed after they are created. Any modification results in the creation of a new object with a different identity.\n",
    "\n",
    "Examples of Immutable Objects:\n",
    "\n",
    "Integers\n",
    "Floats\n",
    "Strings\n",
    "Tuples\n",
    "Frozensets"
   ]
  },
  {
   "cell_type": "code",
   "execution_count": 21,
   "id": "70996c27-99ae-469e-8f0d-cfa6550bad8a",
   "metadata": {},
   "outputs": [],
   "source": [
    "# Examples of Immutable Objects ---> Strings\n",
    "name = \"Bbhinav\""
   ]
  },
  {
   "cell_type": "code",
   "execution_count": 22,
   "id": "19457ec7-33fc-4cc4-b44b-6a2d83fb4557",
   "metadata": {},
   "outputs": [
    {
     "data": {
      "text/plain": [
       "'B'"
      ]
     },
     "execution_count": 22,
     "metadata": {},
     "output_type": "execute_result"
    }
   ],
   "source": [
    "name[0]"
   ]
  },
  {
   "cell_type": "code",
   "execution_count": 23,
   "id": "27bc430f-f43a-41be-8617-fcd30452c8c0",
   "metadata": {},
   "outputs": [
    {
     "ename": "TypeError",
     "evalue": "'str' object does not support item assignment",
     "output_type": "error",
     "traceback": [
      "\u001b[0;31m---------------------------------------------------------------------------\u001b[0m",
      "\u001b[0;31mTypeError\u001b[0m                                 Traceback (most recent call last)",
      "Cell \u001b[0;32mIn[23], line 1\u001b[0m\n\u001b[0;32m----> 1\u001b[0m \u001b[43mname\u001b[49m\u001b[43m[\u001b[49m\u001b[38;5;241;43m0\u001b[39;49m\u001b[43m]\u001b[49m \u001b[38;5;241m=\u001b[39m \u001b[38;5;124m\"\u001b[39m\u001b[38;5;124mA\u001b[39m\u001b[38;5;124m\"\u001b[39m\n",
      "\u001b[0;31mTypeError\u001b[0m: 'str' object does not support item assignment"
     ]
    }
   ],
   "source": [
    "name[0] = \"A\""
   ]
  },
  {
   "cell_type": "code",
   "execution_count": 24,
   "id": "85c946f0-877f-40fb-87b4-e14a85a3a3f2",
   "metadata": {},
   "outputs": [],
   "source": [
    "# Comparison of Mutable and Immutable Objects\n",
    "\n",
    "Mutable_Objects = {\"Modifiablity\": \"Can be modified in place\", \"Identity\": \"Retains the same identity after modification\", \"Methods of Modification\": \"Direct modification via methods or indexing\", \"Performance\": \"Potentially slower due to mutability\"}\n",
    "Immutable_Objects = {\"Modifiablity\": \"Cannot be modified\", \"Identity\": \"Creates a new object upon modification\", \"Methods of Modification\": \"Modifications create new objects\", \"Performance\": \"Often faster due to immutability\"}"
   ]
  },
  {
   "cell_type": "code",
   "execution_count": 36,
   "id": "9be5c562-8577-4f4c-b50f-e55a331a5552",
   "metadata": {},
   "outputs": [
    {
     "name": "stdout",
     "output_type": "stream",
     "text": [
      "Mutable Objects:\n",
      "\n",
      "Modifiablity: Can be modified in place\n",
      "Identity: Retains the same identity after modification\n",
      "Methods of Modification: Direct modification via methods or indexing\n",
      "Performance: Potentially slower due to mutability\n",
      "\n",
      "Immutable Objects:\n",
      "\n",
      "Modifiablity: Cannot be modified\n",
      "Identity: Creates a new object upon modification\n",
      "Methods of Modification: Modifications create new objects\n",
      "Performance: Often faster due to immutability\n"
     ]
    }
   ],
   "source": [
    "print(\"Mutable Objects:\")\n",
    "print()\n",
    "for key, value in Mutable_Objects.items():\n",
    "    print(f\"{key}: {value}\")\n",
    "print()\n",
    "print(\"Immutable Objects:\")\n",
    "print()\n",
    "for key, value in Immutable_Objects.items():\n",
    "    print(f\"{key}: {value}\")"
   ]
  },
  {
   "cell_type": "markdown",
   "id": "9631ada2-9d87-4388-87b6-672672b0038d",
   "metadata": {},
   "source": [
    "### Question 4\n",
    "#### Discuss the different types of operators in python and provide examples of how they are used."
   ]
  },
  {
   "cell_type": "raw",
   "id": "afb0b8fb-a7e6-430c-9cee-f9aaa13aced9",
   "metadata": {},
   "source": [
    "In Python, operators are special symbols or keywords that are used to perform operations on variables and values. Python supports various types of operators, each serving different purposes in programming. Here’s a detailed overview of the different types of operators in Python, along with examples of how they are used:\n",
    "\n",
    "1. Arithmetic Operators\n",
    "These operators are used to perform basic mathematical operations.\n",
    "\n",
    "+ (Addition): Adds two operands.\n",
    "- (Subtraction): Subtracts the second operand from the first.\n",
    "* (Multiplication): Multiplies two operands.\n",
    "/ (Division): Divides the first operand by the second (floating-point division).\n",
    "// (Floor Division): Divides the first operand by the second and returns the largest integer less than or equal to the result.\n",
    "% (Modulus): Returns the remainder of the division of the first operand by the second.\n",
    "** (Exponentiation): Raises the first operand to the power of the second."
   ]
  },
  {
   "cell_type": "code",
   "execution_count": 37,
   "id": "4d8b869d-f036-4392-b39d-27a0755be196",
   "metadata": {},
   "outputs": [
    {
     "name": "stdout",
     "output_type": "stream",
     "text": [
      "13\n",
      "7\n",
      "30\n",
      "3.3333333333333335\n",
      "3\n",
      "1\n",
      "1000\n"
     ]
    }
   ],
   "source": [
    "# Examples\n",
    "a = 10\n",
    "b = 3\n",
    "\n",
    "print(a + b)  # Output: 13 (Addition)\n",
    "print(a - b)  # Output: 7 (Subtraction)\n",
    "print(a * b)  # Output: 30 (Multiplication)\n",
    "print(a / b)  # Output: 3.333... (Division)\n",
    "print(a // b) # Output: 3 (Floor Division)\n",
    "print(a % b)  # Output: 1 (Modulus)\n",
    "print(a ** b) # Output: 1000 (Exponentiation)"
   ]
  },
  {
   "cell_type": "raw",
   "id": "aded2cff-684f-4953-8df3-154ee2264255",
   "metadata": {},
   "source": [
    "2. Comparison Operators\n",
    "These operators are used to compare two values and return a boolean result (True or False).\n",
    "\n",
    "== (Equal to): Returns True if both operands are equal.\n",
    "!= (Not equal to): Returns True if operands are not equal.\n",
    "> (Greater than): Returns True if the left operand is greater than the right.\n",
    "< (Less than): Returns True if the left operand is less than the right.\n",
    ">= (Greater than or equal to): Returns True if the left operand is greater than or equal to the right.\n",
    "<= (Less than or equal to): Returns True if the left operand is less than or equal to the right.\n"
   ]
  },
  {
   "cell_type": "code",
   "execution_count": 38,
   "id": "de2e5620-24cb-468a-8501-0cf9888ec66c",
   "metadata": {},
   "outputs": [
    {
     "name": "stdout",
     "output_type": "stream",
     "text": [
      "False\n",
      "True\n",
      "False\n",
      "True\n",
      "False\n",
      "True\n"
     ]
    }
   ],
   "source": [
    "# Examples\n",
    "x = 5\n",
    "y = 10\n",
    "\n",
    "print(x == y)   # Output: False (Equal to)\n",
    "print(x != y)   # Output: True (Not equal to)\n",
    "print(x > y)    # Output: False (Greater than)\n",
    "print(x < y)    # Output: True (Less than)\n",
    "print(x >= y)   # Output: False (Greater than or equal to)\n",
    "print(x <= y)   # Output: True (Less than or equal to)\n"
   ]
  },
  {
   "cell_type": "raw",
   "id": "725a4ee1-6ec5-41dd-854d-46ef0664de26",
   "metadata": {},
   "source": [
    "3. Logical Operators\n",
    "These operators are used to combine conditional statements.\n",
    "\n",
    "and: Returns True if both operands are true.\n",
    "or: Returns True if at least one of the operands is true.\n",
    "not: Returns True if the operand is false."
   ]
  },
  {
   "cell_type": "code",
   "execution_count": 39,
   "id": "e81e93bd-ad34-4b41-8fd6-10c83a207068",
   "metadata": {},
   "outputs": [
    {
     "name": "stdout",
     "output_type": "stream",
     "text": [
      "False\n",
      "True\n",
      "False\n"
     ]
    }
   ],
   "source": [
    "# Examples\n",
    "a = True\n",
    "b = False\n",
    "\n",
    "print(a and b)  # Output: False (Logical AND)\n",
    "print(a or b)   # Output: True (Logical OR)\n",
    "print(not a)    # Output: False (Logical NOT)"
   ]
  },
  {
   "cell_type": "raw",
   "id": "de0b59da-5624-48a5-b7b6-7c36b792396e",
   "metadata": {},
   "source": [
    "4. Assignment Operators\n",
    "These operators are used to assign values to variables.\n",
    "\n",
    "= (Assignment): Assigns the value on the right to the variable on the left.\n",
    "+= (Add and assign): Adds the right operand to the left operand and assigns the result to the left operand.\n",
    "-= (Subtract and assign): Subtracts the right operand from the left operand and assigns the result to the left operand.\n",
    "*= (Multiply and assign): Multiplies the right operand with the left operand and assigns the result to the left operand.\n",
    "/= (Divide and assign): Divides the left operand by the right operand and assigns the result to the left operand.\n",
    "%= (Modulus and assign): Takes the modulus using the two operands and assigns the result to the left operand.\n",
    "**= (Exponent and assign): Raises the left operand to the power of the right operand and assigns the result to the left operand.\n",
    "//= (Floor divide and assign): Floor divides the left operand by the right operand and assigns the result to the left operand."
   ]
  },
  {
   "cell_type": "code",
   "execution_count": 40,
   "id": "9a93513c-6c77-40f0-8f31-88d931d6e92e",
   "metadata": {},
   "outputs": [
    {
     "name": "stdout",
     "output_type": "stream",
     "text": [
      "8\n",
      "16\n",
      "12\n",
      "4.0\n"
     ]
    }
   ],
   "source": [
    "# Examples\n",
    "x = 5\n",
    "x += 3  # Equivalent to x = x + 3\n",
    "print(x)  # Output: 8\n",
    "\n",
    "x *= 2  # Equivalent to x = x * 2\n",
    "print(x)  # Output: 16\n",
    "\n",
    "x -= 4  # Equivalent to x = x - 4\n",
    "print(x)  # Output: 12\n",
    "\n",
    "x /= 3  # Equivalent to x = x / 3\n",
    "print(x)  # Output: 4.0"
   ]
  },
  {
   "cell_type": "raw",
   "id": "67cbad7d-ba55-4289-a501-637c847946db",
   "metadata": {},
   "source": [
    "5. Bitwise Operators\n",
    "These operators are used to perform bit-level operations on integers.\n",
    "\n",
    "& (Bitwise AND): Performs a bitwise AND operation.\n",
    "| (Bitwise OR): Performs a bitwise OR operation.\n",
    "^ (Bitwise XOR): Performs a bitwise XOR operation.\n",
    "~ (Bitwise NOT): Inverts all the bits.\n",
    "<< (Left shift): Shifts the bits of the left operand to the left by the number of positions specified by the right operand.\n",
    ">> (Right shift): Shifts the bits of the left operand to the right by the number of positions specified by the right operand."
   ]
  },
  {
   "cell_type": "code",
   "execution_count": 41,
   "id": "82433130-8466-4ff4-99b8-d7ad0b7e4bca",
   "metadata": {},
   "outputs": [
    {
     "name": "stdout",
     "output_type": "stream",
     "text": [
      "0\n",
      "14\n",
      "14\n",
      "-11\n",
      "20\n",
      "5\n"
     ]
    }
   ],
   "source": [
    "# Examples\n",
    "a = 10  # Binary: 1010\n",
    "b = 4   # Binary: 0100\n",
    "\n",
    "print(a & b)   # Output: 0 (Bitwise AND)\n",
    "print(a | b)   # Output: 14 (Bitwise OR)\n",
    "print(a ^ b)   # Output: 14 (Bitwise XOR)\n",
    "print(~a)      # Output: -11 (Bitwise NOT)\n",
    "print(a << 1)  # Output: 20 (Left shift)\n",
    "print(a >> 1)  # Output: 5 (Right shift)"
   ]
  },
  {
   "cell_type": "raw",
   "id": "cd03230d-a0dc-4783-a63e-0656206d4759",
   "metadata": {},
   "source": [
    "6. Membership Operators\n",
    "These operators are used to test whether a value is found within a sequence such as a string, list, or tuple.\n",
    "\n",
    "in: Returns True if the value is found in the sequence.\n",
    "not in: Returns True if the value is not found in the sequence."
   ]
  },
  {
   "cell_type": "code",
   "execution_count": 42,
   "id": "ec4b36d4-aadc-466c-b203-362e6c2e6540",
   "metadata": {},
   "outputs": [
    {
     "name": "stdout",
     "output_type": "stream",
     "text": [
      "True\n",
      "True\n"
     ]
    }
   ],
   "source": [
    "# Examples\n",
    "my_list = [1, 2, 3, 4]\n",
    "\n",
    "print(3 in my_list)    # Output: True\n",
    "print(5 not in my_list) # Output: True"
   ]
  },
  {
   "cell_type": "raw",
   "id": "071e3b97-bd29-42b2-9170-2e5590248050",
   "metadata": {},
   "source": [
    "7. Identity Operators\n",
    "These operators are used to compare the memory locations of two objects.\n",
    "\n",
    "is: Returns True if both variables point to the same object.\n",
    "is not: Returns True if both variables do not point to the same object."
   ]
  },
  {
   "cell_type": "code",
   "execution_count": 43,
   "id": "5e7dc751-2951-40a8-a361-bd25dead993c",
   "metadata": {},
   "outputs": [
    {
     "name": "stdout",
     "output_type": "stream",
     "text": [
      "True\n",
      "False\n",
      "True\n"
     ]
    }
   ],
   "source": [
    "# Examples\n",
    "x = [1, 2, 3]\n",
    "y = x\n",
    "z = [1, 2, 3]\n",
    "\n",
    "print(x is y)       # Output: True (x and y reference the same list object)\n",
    "print(x is z)       # Output: False (x and z reference different list objects)\n",
    "print(x is not z)   # Output: True"
   ]
  },
  {
   "cell_type": "markdown",
   "id": "c4e85c25-46d1-4f05-a45a-71ab18657d96",
   "metadata": {},
   "source": [
    "### Question 5\n",
    "#### Explain the concept of type casting in python with examples."
   ]
  },
  {
   "cell_type": "raw",
   "id": "0bb1fe42-090b-4d54-ac67-5ef80baa3048",
   "metadata": {},
   "source": [
    "Type casting in Python, also known as type conversion, is the process of converting a variable from one data type to another. This can be done explicitly by the programmer or implicitly by Python during certain operations. Type casting is useful when you need to change data types to perform operations that require specific data types, or when you want to ensure consistency in your data.\n",
    "\n",
    "Types of Type Casting in Python\n",
    "There are two main types of type casting in Python:\n",
    "\n",
    "Implicit Type Casting\n",
    "Explicit Type Casting\n",
    "1. Implicit Type Casting\n",
    "Implicit type casting is done automatically by Python when it converts a variable of one type to another without any user intervention. Python handles the conversion in such a way that no data loss occurs. Typically, Python converts smaller data types to larger ones (e.g., converting an integer to a float)."
   ]
  },
  {
   "cell_type": "code",
   "execution_count": 45,
   "id": "65ca4a98-b4e9-4add-b70d-ee2a93b55db7",
   "metadata": {},
   "outputs": [
    {
     "name": "stdout",
     "output_type": "stream",
     "text": [
      "7.5\n",
      "<class 'float'>\n"
     ]
    }
   ],
   "source": [
    "# Example of Implicit Type Casting:\n",
    "# Implicit type casting from int to float\n",
    "a = 5        # Integer\n",
    "b = 2.5      # Float\n",
    "\n",
    "# Python automatically converts the result to a float\n",
    "result = a + b  \n",
    "print(result)     # Output: 7.5\n",
    "print(type(result)) # Output: <class 'float'>\n",
    "\n",
    "# In this example:\n",
    "\n",
    "# Python automatically converts the integer a to a float when adding it to b (which is already a float).\n",
    "# The resulting data type of result is float."
   ]
  },
  {
   "cell_type": "raw",
   "id": "c8fb3c51-ca24-4370-9470-079d1ba7c275",
   "metadata": {},
   "source": [
    "2. Explicit Type Casting\n",
    "Explicit type casting is done manually by the programmer using Python’s built-in functions to convert data types. Common functions used for explicit type casting include:\n",
    "\n",
    "int(): Converts a value to an integer.\n",
    "float(): Converts a value to a float.\n",
    "str(): Converts a value to a string.\n",
    "list(): Converts a value (like a tuple or set) to a list.\n",
    "tuple(): Converts a value (like a list or set) to a tuple.\n",
    "set(): Converts a value (like a list or tuple) to a set.\n",
    "dict(): Converts a list of key-value pairs into a dictionary.\n",
    "bool(): Converts a value to a boolean."
   ]
  },
  {
   "cell_type": "code",
   "execution_count": 46,
   "id": "e97e44fe-2461-40dd-898c-331a179400cf",
   "metadata": {},
   "outputs": [],
   "source": [
    "# Examples of Explicit Type Casting:"
   ]
  },
  {
   "cell_type": "code",
   "execution_count": 50,
   "id": "ff6d1d79-7211-407e-8716-61b9c654c392",
   "metadata": {},
   "outputs": [
    {
     "name": "stdout",
     "output_type": "stream",
     "text": [
      "100\n",
      "<class 'int'>\n"
     ]
    }
   ],
   "source": [
    "# Converting string to integer\n",
    "num_str = \"100\"\n",
    "num_int = int(num_str)  # Explicitly casting string to integer\n",
    "\n",
    "print(num_int)         # Output: 100\n",
    "print(type(num_int))   # Output: <class 'int'>"
   ]
  },
  {
   "cell_type": "code",
   "execution_count": 51,
   "id": "a04e0bc9-0d55-4f13-a47c-ba7ead82bd58",
   "metadata": {},
   "outputs": [
    {
     "name": "stdout",
     "output_type": "stream",
     "text": [
      "9\n",
      "<class 'int'>\n"
     ]
    }
   ],
   "source": [
    "# Converting float to integer (truncates the decimal part)\n",
    "num_float = 9.8\n",
    "num_int = int(num_float)  # Explicitly casting float to integer\n",
    "\n",
    "print(num_int)         # Output: 9\n",
    "print(type(num_int))   # Output: <class 'int'>"
   ]
  },
  {
   "cell_type": "code",
   "execution_count": 52,
   "id": "a7d5d615-cb81-4925-89f4-ba5530aa5c23",
   "metadata": {},
   "outputs": [
    {
     "name": "stdout",
     "output_type": "stream",
     "text": [
      "3.14\n",
      "<class 'float'>\n"
     ]
    }
   ],
   "source": [
    "# Converting string to float\n",
    "num_str = \"3.14\"\n",
    "num_float = float(num_str)  # Explicitly casting string to float\n",
    "\n",
    "print(num_float)       # Output: 3.14\n",
    "print(type(num_float)) # Output: <class 'float'>"
   ]
  },
  {
   "cell_type": "markdown",
   "id": "766e3fce-c6ba-467d-becf-bd8f58a886dd",
   "metadata": {},
   "source": [
    "### Question 6\n",
    "#### How do conditional statements work in python? Illustrate with examples."
   ]
  },
  {
   "cell_type": "raw",
   "id": "6d014afa-c3f9-424a-a025-5cafa545d31e",
   "metadata": {},
   "source": [
    "Conditional statements in Python allow you to execute certain pieces of code based on whether a condition is true or false. These statements control the flow of the program, making it possible to execute different code blocks depending on the evaluation of one or more conditions.\n",
    "\n",
    "Types of Conditional Statements in Python\n",
    "if Statement\n",
    "if...else Statement\n",
    "if...elif...else Statement\n",
    "Nested if Statements"
   ]
  },
  {
   "cell_type": "raw",
   "id": "d8f68944-e9c7-4400-bde6-370e96ad8be4",
   "metadata": {},
   "source": [
    "1. if Statement\n",
    "The if statement evaluates a condition (a boolean expression). If the condition is True, the block of code indented under the if statement is executed. If the condition is False, the code block is skipped."
   ]
  },
  {
   "cell_type": "code",
   "execution_count": 54,
   "id": "acbcbc92-420c-4505-ac1b-3d99c5e27e9d",
   "metadata": {},
   "outputs": [
    {
     "name": "stdout",
     "output_type": "stream",
     "text": [
      "The number is positive.\n"
     ]
    }
   ],
   "source": [
    "# Exmample\n",
    "\n",
    "number = 10\n",
    "\n",
    "# Check if the number is positive\n",
    "if number > 0:\n",
    "    print(\"The number is positive.\")  # Output: The number is positive."
   ]
  },
  {
   "cell_type": "raw",
   "id": "b17598e5-535c-4e79-9602-c81bfdb96a22",
   "metadata": {},
   "source": [
    "2. if...else Statement\n",
    "The if...else statement adds an alternative block of code to execute if the condition is False. If the condition is True, the if block is executed; otherwise, the else block is executed."
   ]
  },
  {
   "cell_type": "code",
   "execution_count": 55,
   "id": "4696e27f-8052-40bf-a9e5-2883059e2cbb",
   "metadata": {},
   "outputs": [
    {
     "name": "stdout",
     "output_type": "stream",
     "text": [
      "The number is not positive.\n"
     ]
    }
   ],
   "source": [
    "# Example\n",
    "number = -5\n",
    "\n",
    "# Check if the number is positive or not\n",
    "if number > 0:\n",
    "    print(\"The number is positive.\")\n",
    "else:\n",
    "    print(\"The number is not positive.\")  # Output: The number is not positive."
   ]
  },
  {
   "cell_type": "raw",
   "id": "88592d87-3eff-43f0-909a-9ffb321d69e0",
   "metadata": {},
   "source": [
    "3. if...elif...else Statement\n",
    "The if...elif...else statement allows you to check multiple conditions. The elif keyword stands for \"else if\" and can be used to add additional conditions to check. Only the first condition that evaluates to True will have its code block executed, and the rest will be skipped."
   ]
  },
  {
   "cell_type": "code",
   "execution_count": 56,
   "id": "73b93331-cbaf-429c-9166-6dcc85c1e059",
   "metadata": {},
   "outputs": [
    {
     "name": "stdout",
     "output_type": "stream",
     "text": [
      "The number is zero.\n"
     ]
    }
   ],
   "source": [
    "# Example\n",
    "number = 0\n",
    "\n",
    "# Check if the number is positive, negative, or zero\n",
    "if number > 0:\n",
    "    print(\"The number is positive.\")\n",
    "elif number < 0:\n",
    "    print(\"The number is negative.\")\n",
    "else:\n",
    "    print(\"The number is zero.\")  # Output: The number is zero."
   ]
  },
  {
   "cell_type": "raw",
   "id": "4115626d-d5fb-42c0-9254-e95963bd013c",
   "metadata": {},
   "source": [
    "4. Nested if Statements\n",
    "Nested if statements are if statements placed inside other if statements. This allows you to make multiple levels of decisions within your code."
   ]
  },
  {
   "cell_type": "code",
   "execution_count": 57,
   "id": "853da9ca-4551-4e5a-88da-991ddde4c77a",
   "metadata": {},
   "outputs": [
    {
     "name": "stdout",
     "output_type": "stream",
     "text": [
      "The number is positive.\n",
      "The number is odd.\n"
     ]
    }
   ],
   "source": [
    "# Example\n",
    "number = 15\n",
    "\n",
    "# Check if the number is positive and even or odd\n",
    "if number > 0:\n",
    "    print(\"The number is positive.\")  # Output: The number is positive.\n",
    "    if number % 2 == 0:\n",
    "        print(\"The number is even.\")\n",
    "    else:\n",
    "        print(\"The number is odd.\")  # Output: The number is odd.\n",
    "else:\n",
    "    print(\"The number is not positive.\")"
   ]
  },
  {
   "cell_type": "raw",
   "id": "03ae2e5d-2418-489d-b471-3688de5236b4",
   "metadata": {},
   "source": [
    "Important Points to Remember:\n",
    "\n",
    "\n",
    "Indentation: Python uses indentation to define the scope of code blocks. The code inside an if, else, or elif block must be indented.\n",
    "\n",
    "Conditions: Conditions are boolean expressions that evaluate to True or False. You can use comparison operators (==, !=, <, >, <=, >=) and logical operators (and, or, not) to build complex conditions.\n",
    "\n",
    "Order of Execution: In if...elif...else statements, conditions are evaluated from top to bottom. As soon as one condition evaluates to True, the corresponding block is executed, and the rest are skipped."
   ]
  },
  {
   "cell_type": "markdown",
   "id": "4dfdbaa3-1c83-48e3-8c58-4f39ffe181ee",
   "metadata": {},
   "source": [
    "### Question 7\n",
    "#### Describe the different types of loops in python and their use cases with examples."
   ]
  },
  {
   "cell_type": "raw",
   "id": "0a629c44-9b87-405a-bd90-515267402e68",
   "metadata": {},
   "source": [
    "In Python, loops are used to execute a block of code repeatedly, either a fixed number of times or until a certain condition is met. Python primarily offers two types of loops:\n",
    "\n",
    "for Loop\n",
    "while Loop\n",
    "Additionally, Python provides control statements like break, continue, and pass to control the flow within loops."
   ]
  },
  {
   "cell_type": "raw",
   "id": "f4ff7160-8954-45bd-891f-ce49142f3b49",
   "metadata": {},
   "source": [
    "1. for Loop\n",
    "The for loop in Python is used to iterate over a sequence (such as a list, tuple, string, or range). It is commonly used when you know in advance how many times you need to execute a block of code."
   ]
  },
  {
   "cell_type": "code",
   "execution_count": 58,
   "id": "671377e2-5dce-41be-beff-daafacb2e9dd",
   "metadata": {},
   "outputs": [
    {
     "name": "stdout",
     "output_type": "stream",
     "text": [
      "apple\n",
      "banana\n",
      "cherry\n"
     ]
    }
   ],
   "source": [
    "#Example 1: Iterating Over a List\n",
    "fruits = [\"apple\", \"banana\", \"cherry\"]\n",
    "\n",
    "for fruit in fruits:\n",
    "    print(fruit)\n",
    "# Output:\n",
    "# apple\n",
    "# banana\n",
    "# cherry"
   ]
  },
  {
   "cell_type": "code",
   "execution_count": 59,
   "id": "63eb698e-a533-4462-a517-40f5e47d9500",
   "metadata": {},
   "outputs": [
    {
     "name": "stdout",
     "output_type": "stream",
     "text": [
      "0\n",
      "1\n",
      "2\n",
      "3\n",
      "4\n"
     ]
    }
   ],
   "source": [
    "# Example 2: Using range() to Iterate Over Numbers\n",
    "# Iterating from 0 to 4\n",
    "for i in range(5):\n",
    "    print(i)\n",
    "# Output:\n",
    "# 0\n",
    "# 1\n",
    "# 2\n",
    "# 3\n",
    "# 4"
   ]
  },
  {
   "cell_type": "raw",
   "id": "b684f2b5-064d-4566-8445-77f93854c1c4",
   "metadata": {},
   "source": [
    "Use Cases of for Loop:\n",
    "\n",
    "Iterating over elements of a list, tuple, set, or dictionary.\n",
    "Executing code a specific number of times using range().\n",
    "Iterating over characters in a string.\n",
    "Looping over lines in a file."
   ]
  },
  {
   "cell_type": "raw",
   "id": "91a5cc20-775d-4093-b50e-463699a4ecd4",
   "metadata": {},
   "source": [
    "2. while Loop\n",
    "The while loop repeatedly executes a block of code as long as a specified condition is true. It is useful when the number of iterations is not known in advance and depends on a condition being met."
   ]
  },
  {
   "cell_type": "code",
   "execution_count": 60,
   "id": "26039661-709c-45cd-b536-ebdb4890afba",
   "metadata": {},
   "outputs": [
    {
     "name": "stdout",
     "output_type": "stream",
     "text": [
      "0\n",
      "1\n",
      "2\n",
      "3\n",
      "4\n"
     ]
    }
   ],
   "source": [
    "# Example 1: Basic while Loop\n",
    "count = 0\n",
    "\n",
    "while count < 5:\n",
    "    print(count)\n",
    "    count += 1\n",
    "# Output:\n",
    "# 0\n",
    "# 1\n",
    "# 2\n",
    "# 3\n",
    "# 4"
   ]
  },
  {
   "cell_type": "code",
   "execution_count": 61,
   "id": "172ca2c0-b488-4185-9e54-55a96a43da09",
   "metadata": {},
   "outputs": [
    {
     "name": "stdin",
     "output_type": "stream",
     "text": [
      "Enter something (type 'exit' to stop):  exit\n"
     ]
    },
    {
     "name": "stdout",
     "output_type": "stream",
     "text": [
      "You entered: exit\n"
     ]
    }
   ],
   "source": [
    "# Example 2: Using while Loop for User Input\n",
    "# Continue asking for input until the user types 'exit'\n",
    "user_input = \"\"\n",
    "\n",
    "while user_input.lower() != 'exit':\n",
    "    user_input = input(\"Enter something (type 'exit' to stop): \")\n",
    "    print(f\"You entered: {user_input}\")"
   ]
  },
  {
   "cell_type": "raw",
   "id": "6351e40f-a7ae-4e82-883b-4f3c4c5e1cb8",
   "metadata": {},
   "source": [
    "Use Cases of while Loop:\n",
    "\n",
    "Repeating tasks until a certain condition is met.\n",
    "Continuously reading user input until a valid response is received.\n",
    "Running background tasks like waiting for a specific event or signal.\n",
    "Implementing loops that require complex conditions that may not be based on a sequence."
   ]
  },
  {
   "cell_type": "raw",
   "id": "a1006f52-79ef-41c1-8b78-75c64c34be2a",
   "metadata": {},
   "source": [
    "Control Statements in Loops\n",
    "Python provides additional control statements to manage the flow within loops:\n",
    "\n",
    "break Statement: Exits the loop immediately, regardless of the loop’s condition."
   ]
  },
  {
   "cell_type": "code",
   "execution_count": 62,
   "id": "16e0b610-dc9f-408e-98fd-51047f8d60b9",
   "metadata": {},
   "outputs": [
    {
     "name": "stdout",
     "output_type": "stream",
     "text": [
      "0\n",
      "1\n",
      "2\n",
      "3\n",
      "4\n"
     ]
    }
   ],
   "source": [
    "# Example\n",
    "for i in range(10):\n",
    "    if i == 5:\n",
    "        break  # Exit the loop when i equals 5\n",
    "    print(i)\n",
    "# Output:\n",
    "# 0\n",
    "# 1\n",
    "# 2\n",
    "# 3\n",
    "# 4"
   ]
  },
  {
   "cell_type": "raw",
   "id": "8a9cf187-2000-4ee2-a892-3890e9b594d9",
   "metadata": {},
   "source": [
    "continue Statement: Skips the rest of the code inside the loop for the current iteration and moves to the next iteration."
   ]
  },
  {
   "cell_type": "code",
   "execution_count": 64,
   "id": "a4c99771-f4b3-441c-a0be-f89e5c7ffc0c",
   "metadata": {},
   "outputs": [
    {
     "name": "stdout",
     "output_type": "stream",
     "text": [
      "0\n",
      "1\n",
      "3\n",
      "4\n"
     ]
    }
   ],
   "source": [
    "# Example\n",
    "for i in range(5):\n",
    "    if i == 2:\n",
    "        continue  # Skip the current iteration when i equals 2\n",
    "    print(i)\n",
    "# Output:\n",
    "# 0\n",
    "# 1\n",
    "# 3\n",
    "# 4"
   ]
  },
  {
   "cell_type": "raw",
   "id": "7edb9775-a654-4527-a92e-77939e6faea7",
   "metadata": {},
   "source": [
    "Choosing Between for and while Loops\n",
    "Use a for loop when you need to iterate over a sequence or when you know in advance how many times to execute a block of code.\n",
    "Use a while loop when the number of iterations is not known beforehand and depends on a condition being true.\n",
    "Loops are essential in Python for tasks that involve repeated actions, making code more efficient, concise, and readable. Understanding the correct usage of for and while loops, along with control statements, allows for effective iteration and flow control in your programs."
   ]
  },
  {
   "cell_type": "code",
   "execution_count": null,
   "id": "0841c20e-4f82-4067-a220-290f7af9d529",
   "metadata": {},
   "outputs": [],
   "source": []
  }
 ],
 "metadata": {
  "kernelspec": {
   "display_name": "Python 3 (ipykernel)",
   "language": "python",
   "name": "python3"
  },
  "language_info": {
   "codemirror_mode": {
    "name": "ipython",
    "version": 3
   },
   "file_extension": ".py",
   "mimetype": "text/x-python",
   "name": "python",
   "nbconvert_exporter": "python",
   "pygments_lexer": "ipython3",
   "version": "3.10.8"
  }
 },
 "nbformat": 4,
 "nbformat_minor": 5
}
